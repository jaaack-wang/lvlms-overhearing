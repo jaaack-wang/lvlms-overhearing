{
 "cells": [
  {
   "cell_type": "code",
   "execution_count": 1,
   "id": "360006b2",
   "metadata": {},
   "outputs": [],
   "source": [
    "import os\n",
    "\n",
    "os.chdir(\"..\")"
   ]
  },
  {
   "cell_type": "code",
   "execution_count": 2,
   "id": "b293c5cc",
   "metadata": {},
   "outputs": [],
   "source": [
    "from litellm import completion\n",
    "\n",
    "\n",
    "\n",
    "def get_completion(prompt, \n",
    "                   model=\"openai/gpt-4.1-2025-04-14\", \n",
    "                   temperature=0, max_tries=5):\n",
    "    \n",
    "    for _ in range(max_tries):\n",
    "        try:\n",
    "            # Call the completion function with the provided parameters\n",
    "            response = completion(\n",
    "                model=model, temperature=temperature,\n",
    "                messages=[{\"role\": \"user\", \"content\": prompt}]\n",
    "            )\n",
    "            return response[\"choices\"][0][\"message\"][\"content\"]\n",
    "        \n",
    "        except Exception as e:\n",
    "            print(f\"Error: {e}\")\n",
    "            sleep(10)\n",
    "            continue\n",
    "    \n",
    "    return \"SOMETHING_WRONG\""
   ]
  },
  {
   "cell_type": "markdown",
   "id": "d9595ca8",
   "metadata": {},
   "source": [
    "### Make it less colloquial"
   ]
  },
  {
   "cell_type": "code",
   "execution_count": 28,
   "id": "bf776e23",
   "metadata": {},
   "outputs": [],
   "source": [
    "from string import Template\n",
    "\n",
    "prompt_tmp = '''\n",
    "You are given an excerpt from a transcribed, spontaneous conversation between two individuals. \\\n",
    "Your task is to revise the excerpt to produce a clear, polished version of the dialogue that reads like formal written text. \\\n",
    "Transform any standalone words or phrases into complete, grammatically correct sentences where appropriate. Do not add any \\\n",
    "additional information or context or change the meaning of the text. Do not output anything other than the revised excerpt.\n",
    "\n",
    "Here is the excerpt:\n",
    "${excerpt}\n",
    "\n",
    "Revised Excerpt:\n",
    "'''.strip()\n",
    "prompt_tmp = Template(prompt_tmp)"
   ]
  },
  {
   "cell_type": "code",
   "execution_count": 29,
   "id": "4d4937ce",
   "metadata": {},
   "outputs": [
    {
     "name": "stderr",
     "output_type": "stream",
     "text": [
      "100%|██████████| 40/40 [09:55<00:00, 14.88s/it]\n"
     ]
    },
    {
     "name": "stdout",
     "output_type": "stream",
     "text": [
      "Revised data saved to data/dogs-matching-data-revised.xlsx\n"
     ]
    },
    {
     "name": "stderr",
     "output_type": "stream",
     "text": [
      "100%|██████████| 40/40 [09:23<00:00, 14.10s/it]"
     ]
    },
    {
     "name": "stdout",
     "output_type": "stream",
     "text": [
      "Revised data saved to data/baskets-matching-data-revised.xlsx\n"
     ]
    },
    {
     "name": "stderr",
     "output_type": "stream",
     "text": [
      "\n"
     ]
    }
   ],
   "source": [
    "import pandas as pd\n",
    "from tqdm import tqdm\n",
    "\n",
    "def revise_df(df):\n",
    "    df_revised = df.copy()\n",
    "    pairs = df_revised.columns.tolist()[3:]\n",
    "\n",
    "    for i, row in tqdm(df_revised.iterrows(), total=len(df_revised)):\n",
    "        for pair in pairs:\n",
    "            excerpt = row[pair]\n",
    "            \n",
    "            if pd.isna(excerpt):\n",
    "                continue\n",
    "            \n",
    "            prompt = prompt_tmp.substitute(excerpt=excerpt)\n",
    "            revised_excerpt = get_completion(prompt)\n",
    "            df_revised.at[i, pair] = revised_excerpt\n",
    "    \n",
    "    return df_revised\n",
    "\n",
    "\n",
    "def combine_original_and_revision(df, df_revised):\n",
    "    out = []\n",
    "    cols = [\"Trial\", \"Pair\", \"Original\", \"Revised\"]\n",
    "    pairs = df.columns.tolist()[3:]\n",
    "\n",
    "    for i, row in df.iterrows():\n",
    "        trial = row[\"Trial\"]\n",
    "        for pair in pairs:\n",
    "            original = row[pair]\n",
    "            revised = df_revised.at[i, pair]\n",
    "            \n",
    "            out.append({\n",
    "                \"Trial\": trial,\n",
    "                \"Pair\": pair,\n",
    "                \"Original\": original,\n",
    "                \"Revised\": revised\n",
    "            })\n",
    "\n",
    "    return pd.DataFrame(out, columns=cols)\n",
    "\n",
    "df_dogs = pd.read_excel(\"data/dogs-matching-data.xlsx\")\n",
    "df_revised = revise_df(df_dogs)\n",
    "df_revised.to_excel(\"data/dogs-matching-data-revised.xlsx\", index=False)\n",
    "print(\"Revised data saved to data/dogs-matching-data-revised.xlsx\")\n",
    "\n",
    "df_baskets = pd.read_excel(\"data/baskets-matching-data.xlsx\")\n",
    "df_baskets_revised = revise_df(df_baskets)\n",
    "df_baskets_revised.to_excel(\"data/baskets-matching-data-revised.xlsx\", index=False)\n",
    "print(\"Revised data saved to data/baskets-matching-data-revised.xlsx\")"
   ]
  },
  {
   "cell_type": "code",
   "execution_count": null,
   "id": "29e3a775",
   "metadata": {},
   "outputs": [],
   "source": [
    "from IPython.display import display, HTML\n",
    "\n",
    "\n",
    "def pretty_print(df):\n",
    "    return display(HTML( df.to_html().replace(\"\\\\n\",\"<br>\")))\n",
    "\n",
    "\n",
    "combined = combine_original_and_revision(df_dogs, df_revised)"
   ]
  },
  {
   "cell_type": "code",
   "execution_count": 26,
   "id": "1cde6d05",
   "metadata": {},
   "outputs": [
    {
     "data": {
      "text/html": [
       "<table border=\"1\" class=\"dataframe\">\n",
       "  <thead>\n",
       "    <tr style=\"text-align: right;\">\n",
       "      <th></th>\n",
       "      <th>Trial</th>\n",
       "      <th>Pair</th>\n",
       "      <th>Original</th>\n",
       "      <th>Revised</th>\n",
       "    </tr>\n",
       "  </thead>\n",
       "  <tbody>\n",
       "    <tr>\n",
       "      <th>152</th>\n",
       "      <td>2</td>\n",
       "      <td>Pair_22</td>\n",
       "      <td>D:  Yeah<br>(laughs)<br>And his tail is sticking up<br>Number six is the one with the golden necklace<br>Not the necklace but a leash?<br><br>M:  The circle?<br><br>D:  Yeah, the circle<br><br>M:  Ok</td>\n",
       "      <td>D: Yes.  <br>(laughs)  <br>And his tail is sticking up. Number six is the one with the golden necklace—no, not the necklace, but a leash.  <br><br>M: The circle?  <br><br>D: Yes, the circle.  <br><br>M: Okay.</td>\n",
       "    </tr>\n",
       "    <tr>\n",
       "      <th>347</th>\n",
       "      <td>4</td>\n",
       "      <td>Pair_37</td>\n",
       "      <td>D:  Number five is the Doberman pinscher with the...the black…dog with the...looks like there's grease on 'im<br><br>M:  Number seven…</td>\n",
       "      <td>D: Number five is the Doberman Pinscher, the black dog that looks like there is grease on him.<br><br>M: Number seven.</td>\n",
       "    </tr>\n",
       "    <tr>\n",
       "      <th>221</th>\n",
       "      <td>3</td>\n",
       "      <td>Pair_21</td>\n",
       "      <td>D:  Third is the Siberian husky<br><br>M:  Yup</td>\n",
       "      <td>D: The third is the Siberian husky.<br><br>M: Yes.</td>\n",
       "    </tr>\n",
       "    <tr>\n",
       "      <th>142</th>\n",
       "      <td>2</td>\n",
       "      <td>Pair_22</td>\n",
       "      <td>D: It's in the grass background<br>Number five is the, um--remember the last one we had?<br>Uh, the wooshy--uh, he--he has like a mustache or *something?*<br><br><br>M:  *A mustache?*</td>\n",
       "      <td>D: It is in the grass background. Number five is the, um—do you remember the last one we had? The wooshy one—he has like a mustache or something.<br><br>M: A mustache?</td>\n",
       "    </tr>\n",
       "    <tr>\n",
       "      <th>132</th>\n",
       "      <td>2</td>\n",
       "      <td>Pair_22</td>\n",
       "      <td>D:  Number four is the one with the leash<br>Um, he--his body's towards the right, but he's toward--his head is towards the left<br><br>M:  In the grass, *right?*<br><br>D:   *Yeah*<br><br>M: Ok</td>\n",
       "      <td>D: Number four is the one with the leash. His body is facing towards the right, but his head is turned towards the left.<br><br>M: He is in the grass, correct?<br><br>D: Yes.<br><br>M: Okay.</td>\n",
       "    </tr>\n",
       "  </tbody>\n",
       "</table>"
      ],
      "text/plain": [
       "<IPython.core.display.HTML object>"
      ]
     },
     "metadata": {},
     "output_type": "display_data"
    }
   ],
   "source": [
    "pretty_print(combined.sample(5))"
   ]
  },
  {
   "cell_type": "code",
   "execution_count": null,
   "id": "45f3fd18",
   "metadata": {},
   "outputs": [],
   "source": []
  },
  {
   "cell_type": "markdown",
   "id": "680e116c",
   "metadata": {},
   "source": [
    "### No Interaction, Just a Summary"
   ]
  },
  {
   "cell_type": "code",
   "execution_count": 9,
   "id": "5c8a9705",
   "metadata": {},
   "outputs": [],
   "source": [
    "from string import Template\n",
    "\n",
    "prompt_tmp = '''\n",
    "You are given an excerpt from a transcribed, spontaneous conversation between two individuals. \\\n",
    "Your task is to extract and concisely summarize all descriptions used to characterize a specific object mentioned in the excerpt. \\\n",
    "You must follow the instructions below:\n",
    "\n",
    "1. Preserve all relevant descriptive details.\n",
    "2. Do not alter the meaning, add context, or introduce new information.\n",
    "3. Your response must only include the final summary—do not include the original excerpt or any explanatory text.\n",
    "\n",
    "Excerpt:\n",
    "\n",
    "${excerpt}\n",
    "\n",
    "Summary of Object Descriptions:\n",
    "'''.strip()\n",
    "prompt_tmp = Template(prompt_tmp)"
   ]
  },
  {
   "cell_type": "code",
   "execution_count": 11,
   "id": "3aa63dbc",
   "metadata": {},
   "outputs": [
    {
     "name": "stderr",
     "output_type": "stream",
     "text": [
      "100%|██████████| 40/40 [06:53<00:00, 10.33s/it]\n"
     ]
    },
    {
     "name": "stdout",
     "output_type": "stream",
     "text": [
      "Summarized data saved to data/dogs-matching-data-summarized.xlsx\n"
     ]
    },
    {
     "name": "stderr",
     "output_type": "stream",
     "text": [
      "100%|██████████| 40/40 [06:57<00:00, 10.44s/it]"
     ]
    },
    {
     "name": "stdout",
     "output_type": "stream",
     "text": [
      "Summarized data saved to data/baskets-matching-data-revised.xlsx\n"
     ]
    },
    {
     "name": "stderr",
     "output_type": "stream",
     "text": [
      "\n"
     ]
    }
   ],
   "source": [
    "import pandas as pd\n",
    "from tqdm import tqdm\n",
    "\n",
    "def revise_df(df):\n",
    "    df_revised = df.copy()\n",
    "    pairs = df_revised.columns.tolist()[3:]\n",
    "\n",
    "    for i, row in tqdm(df_revised.iterrows(), total=len(df_revised)):\n",
    "        for pair in pairs:\n",
    "            excerpt = row[pair]\n",
    "            \n",
    "            if pd.isna(excerpt):\n",
    "                continue\n",
    "            \n",
    "            prompt = prompt_tmp.substitute(excerpt=excerpt)\n",
    "            revised_excerpt = get_completion(prompt)\n",
    "            df_revised.at[i, pair] = revised_excerpt\n",
    "    \n",
    "    return df_revised\n",
    "\n",
    "\n",
    "def combine_original_and_revision(df, df_revised):\n",
    "    out = []\n",
    "    cols = [\"Trial\", \"Pair\", \"Original\", \"Revised\"]\n",
    "    pairs = df.columns.tolist()[3:]\n",
    "\n",
    "    for i, row in df.iterrows():\n",
    "        trial = row[\"Trial\"]\n",
    "        for pair in pairs:\n",
    "            original = row[pair]\n",
    "            revised = df_revised.at[i, pair]\n",
    "            \n",
    "            out.append({\n",
    "                \"Trial\": trial,\n",
    "                \"Pair\": pair,\n",
    "                \"Original\": original,\n",
    "                \"Revised\": revised\n",
    "            })\n",
    "\n",
    "    return pd.DataFrame(out, columns=cols)\n",
    "\n",
    "df_dogs = pd.read_excel(\"data/dogs-matching-data.xlsx\")\n",
    "df_revised = revise_df(df_dogs)\n",
    "df_revised.to_excel(\"data/dogs-matching-data-summarized.xlsx\", index=False)\n",
    "print(\"Summarized data saved to data/dogs-matching-data-summarized.xlsx\")\n",
    "\n",
    "df_baskets = pd.read_excel(\"data/baskets-matching-data.xlsx\")\n",
    "df_baskets_revised = revise_df(df_baskets)\n",
    "df_baskets_revised.to_excel(\"data/baskets-matching-data-summarized.xlsx\", index=False)\n",
    "print(\"Summarized data saved to data/baskets-matching-data-summarized.xlsx\")"
   ]
  },
  {
   "cell_type": "code",
   "execution_count": 12,
   "id": "9e85e6c2",
   "metadata": {},
   "outputs": [],
   "source": [
    "from IPython.display import display, HTML\n",
    "\n",
    "\n",
    "def pretty_print(df):\n",
    "    return display(HTML( df.to_html().replace(\"\\\\n\",\"<br>\")))\n",
    "\n",
    "\n",
    "combined = combine_original_and_revision(df_dogs, df_revised)"
   ]
  },
  {
   "cell_type": "code",
   "execution_count": 14,
   "id": "747e3e31",
   "metadata": {},
   "outputs": [
    {
     "data": {
      "text/html": [
       "<table border=\"1\" class=\"dataframe\">\n",
       "  <thead>\n",
       "    <tr style=\"text-align: right;\">\n",
       "      <th></th>\n",
       "      <th>Trial</th>\n",
       "      <th>Pair</th>\n",
       "      <th>Original</th>\n",
       "      <th>Revised</th>\n",
       "    </tr>\n",
       "  </thead>\n",
       "  <tbody>\n",
       "    <tr>\n",
       "      <th>340</th>\n",
       "      <td>4</td>\n",
       "      <td>Pair_20</td>\n",
       "      <td>D: The Doberman?<br> <br> M: Gotcha</td>\n",
       "      <td>No descriptive details about the object were provided.</td>\n",
       "    </tr>\n",
       "    <tr>\n",
       "      <th>361</th>\n",
       "      <td>4</td>\n",
       "      <td>Pair_21</td>\n",
       "      <td>D:  Uh, seventh is the hotdog<br><br>M:  Yup</td>\n",
       "      <td>The object is referred to as \"the hotdog.\" No additional descriptive details are provided.</td>\n",
       "    </tr>\n",
       "    <tr>\n",
       "      <th>306</th>\n",
       "      <td>4</td>\n",
       "      <td>Pair_35</td>\n",
       "      <td>D:  One<br>Uh, tail sticking up in the air<br><br>M:  Ok</td>\n",
       "      <td>Tail sticking up in the air</td>\n",
       "    </tr>\n",
       "    <tr>\n",
       "      <th>136</th>\n",
       "      <td>2</td>\n",
       "      <td>Pair_35</td>\n",
       "      <td>D:  Ok<br>Dog number four was, um...again that dog which--his leash is sort of tied to the ground<br>Its tail is laying--laying down on the grass<br>Green grass behind it?<br>All brown<br>It's, uh, facing in front of you, but you could see its head is tilted to the side<br><br>M:  Ok<br><br>D:  You got it?<br><br>M:  Yeah</td>\n",
       "      <td>Dog number four has its leash tied to the ground, its tail laying down on all brown grass with green grass behind it, and it is facing in front with its head tilted to the side.</td>\n",
       "    </tr>\n",
       "    <tr>\n",
       "      <th>366</th>\n",
       "      <td>4</td>\n",
       "      <td>Pair_35</td>\n",
       "      <td>D:  Dog number seven<br>Short legs, long body<br><br>M:  Ok</td>\n",
       "      <td>Short legs, long body</td>\n",
       "    </tr>\n",
       "  </tbody>\n",
       "</table>"
      ],
      "text/plain": [
       "<IPython.core.display.HTML object>"
      ]
     },
     "metadata": {},
     "output_type": "display_data"
    }
   ],
   "source": [
    "pretty_print(combined.sample(5))"
   ]
  },
  {
   "cell_type": "code",
   "execution_count": null,
   "id": "ed482574",
   "metadata": {},
   "outputs": [],
   "source": []
  },
  {
   "cell_type": "code",
   "execution_count": null,
   "id": "5e6dae4e",
   "metadata": {},
   "outputs": [],
   "source": []
  }
 ],
 "metadata": {
  "kernelspec": {
   "display_name": "LangCogVis",
   "language": "python",
   "name": "python3"
  },
  "language_info": {
   "codemirror_mode": {
    "name": "ipython",
    "version": 3
   },
   "file_extension": ".py",
   "mimetype": "text/x-python",
   "name": "python",
   "nbconvert_exporter": "python",
   "pygments_lexer": "ipython3",
   "version": "3.13.2"
  }
 },
 "nbformat": 4,
 "nbformat_minor": 5
}
