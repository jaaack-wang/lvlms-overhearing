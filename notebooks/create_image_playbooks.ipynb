{
 "cells": [
  {
   "cell_type": "code",
   "execution_count": 2,
   "id": "8c6c9711",
   "metadata": {},
   "outputs": [],
   "source": [
    "import os\n",
    "\n",
    "os.chdir(\"..\")"
   ]
  },
  {
   "cell_type": "code",
   "execution_count": 3,
   "id": "d9415a64",
   "metadata": {},
   "outputs": [],
   "source": [
    "import random\n",
    "from scripts.utils import load_dict_from_json\n",
    "from scripts.utils import save_dict_to_json\n",
    "\n",
    "\n",
    "def load_image_fps_and_mapper(image_dire):\n",
    "    image_fps = [os.path.join(image_dire, f) for \n",
    "                 f in os.listdir(image_dire) if f.endswith('.png')]\n",
    "    mapper = load_dict_from_json(os.path.join(image_dire, \"mapper.json\"))\n",
    "    return image_fps, mapper\n",
    "\n",
    "\n",
    "def create_playbook(image_dire, number_of_runs):\n",
    "    \"\"\"\n",
    "    Create a playbook for the experiment.\n",
    "    The playbook is a dictionary where each key is a run number\n",
    "    and each value is a dictionary with trial numbers as keys\n",
    "    and image file paths as values.\n",
    "    \"\"\"\n",
    "\n",
    "    image_fps, _ = load_image_fps_and_mapper(image_dire)\n",
    "\n",
    "    random.shuffle(image_fps)\n",
    "    playbook = dict()\n",
    "\n",
    "    for run_num in range(number_of_runs):\n",
    "        playbook[run_num] = dict()\n",
    "        four_images = random.sample(image_fps, 4)\n",
    "\n",
    "        for trial in range(1, 5):\n",
    "            playbook[run_num][trial] = four_images[trial - 1]\n",
    "\n",
    "    save_fp = os.path.join(image_dire, \"playbook.json\")\n",
    "    save_dict_to_json(playbook, save_fp)\n",
    "    print(f\"Playbook saved to {save_fp}\")"
   ]
  },
  {
   "cell_type": "code",
   "execution_count": 4,
   "id": "4308bc06",
   "metadata": {},
   "outputs": [
    {
     "name": "stdout",
     "output_type": "stream",
     "text": [
      "Playbook saved to data/baskets-grid-10/playbook.json\n"
     ]
    }
   ],
   "source": [
    "create_playbook(\"data/baskets-grid-10\", 100)"
   ]
  },
  {
   "cell_type": "code",
   "execution_count": 5,
   "id": "91222c77",
   "metadata": {},
   "outputs": [
    {
     "name": "stdout",
     "output_type": "stream",
     "text": [
      "Playbook saved to data/dogs-grid-10/playbook.json\n"
     ]
    }
   ],
   "source": [
    "create_playbook(\"data/dogs-grid-10\", 100)"
   ]
  },
  {
   "cell_type": "code",
   "execution_count": null,
   "id": "d4228a56",
   "metadata": {},
   "outputs": [],
   "source": []
  },
  {
   "cell_type": "code",
   "execution_count": 5,
   "id": "f5f73c8e",
   "metadata": {},
   "outputs": [
    {
     "name": "stdout",
     "output_type": "stream",
     "text": [
      "Playbook saved to data/baskets-grid/playbook.json\n"
     ]
    }
   ],
   "source": [
    "create_playbook(\"data/baskets-grid\", 100)"
   ]
  },
  {
   "cell_type": "code",
   "execution_count": 14,
   "id": "17f50a5d",
   "metadata": {},
   "outputs": [
    {
     "name": "stdout",
     "output_type": "stream",
     "text": [
      "Playbook saved to data/dogs-grid/playbook.json\n"
     ]
    }
   ],
   "source": [
    "create_playbook(\"data/dogs-grid\", 100)"
   ]
  },
  {
   "cell_type": "code",
   "execution_count": null,
   "id": "0a3c8185",
   "metadata": {},
   "outputs": [],
   "source": []
  }
 ],
 "metadata": {
  "kernelspec": {
   "display_name": "LangCogVis",
   "language": "python",
   "name": "python3"
  },
  "language_info": {
   "codemirror_mode": {
    "name": "ipython",
    "version": 3
   },
   "file_extension": ".py",
   "mimetype": "text/x-python",
   "name": "python",
   "nbconvert_exporter": "python",
   "pygments_lexer": "ipython3",
   "version": "3.13.2"
  }
 },
 "nbformat": 4,
 "nbformat_minor": 5
}
